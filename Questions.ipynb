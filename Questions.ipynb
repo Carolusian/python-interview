{
 "cells": [
  {
   "cell_type": "code",
   "execution_count": null,
   "metadata": {
    "collapsed": true
   },
   "outputs": [],
   "source": [
    "# Load necessary packages\n",
    "import unittest"
   ]
  },
  {
   "cell_type": "markdown",
   "metadata": {},
   "source": [
    "## Example Question: Find all even numbers from a list"
   ]
  },
  {
   "cell_type": "code",
   "execution_count": null,
   "metadata": {
    "collapsed": false
   },
   "outputs": [],
   "source": [
    "def even_numbers(lst):\n",
    "    def is_even(x):\n",
    "        \"\"\"Check whether x is a even number\"\"\"\n",
    "        return x % 2 == 0\n",
    "    return [x for x in lst if is_even(x)]\n",
    "\n",
    "class ExampleTest(unittest.TestCase):\n",
    "    \"\"\"Example test case\"\"\"\n",
    "    data = [\n",
    "        ([1,3,6,7,9,2], [6,2])\n",
    "    ]\n",
    "\n",
    "    def test_even_numbers(self):\n",
    "        for [test_list, expected] in self.data:\n",
    "            actual = even_numbers(test_list)\n",
    "            self.assertEqual(actual, expected)\n",
    "\n",
    "\n",
    "example_t = ExampleTest()\n",
    "example_suite = unittest.TestLoader().loadTestsFromModule( example_t )\n",
    "unittest.TextTestRunner().run(example_suite)"
   ]
  },
  {
   "cell_type": "markdown",
   "metadata": {},
   "source": [
    "## Question 1: Rotates a matrix 90 degrees"
   ]
  },
  {
   "cell_type": "code",
   "execution_count": null,
   "metadata": {
    "collapsed": false
   },
   "outputs": [],
   "source": [
    "def rotate_matrix(m):\n",
    "    pass\n",
    "\n",
    "class MatrixRotationTest(unittest.TestCase):\n",
    "    \"\"\"Matrix rotation test case\"\"\"\n",
    "    data = [\n",
    "        ([\n",
    "            ['a', 'b'],\n",
    "            ['c', 'd']\n",
    "        ], [\n",
    "            ['c', 'a'],\n",
    "            ['d', 'b']\n",
    "        ])\n",
    "    ]\n",
    "\n",
    "    def test_rotate_matrix(self):\n",
    "        for [test_matrix, expected] in self.data:\n",
    "            actual = rotate_matrix(test_matrix)\n",
    "            self.assertEqual(actual, expected)\n",
    "\n",
    "matrix_rotation_t = MatrixRotationTest()\n",
    "matrix_rotation_suite = unittest.TestLoader().loadTestsFromModule( matrix_rotation_t )\n",
    "unittest.TextTestRunner().run(matrix_rotation_suite)"
   ]
  },
  {
   "cell_type": "markdown",
   "metadata": {},
   "source": [
    "## Question 2: Using python decorator to wrap the returned string into a HTML tag\n",
    "\n",
    "### Problem explanation:\n",
    "\n",
    "```python\n",
    "def html_tag(tag_name):\n",
    "    pass\n",
    "\n",
    "@html_tag('strong')\n",
    "def function_to_be_decorated(name):\n",
    "    return \"Hello \" + name\n",
    "\n",
    "print(function_to_be_decorated(\"Donald Trump\"))\n",
    "```\n",
    "\n",
    "NOTE: Implement html_tag, the result of the above snippet should be: <strong>Hello Donald Trump</strong>"
   ]
  },
  {
   "cell_type": "code",
   "execution_count": null,
   "metadata": {
    "collapsed": false
   },
   "outputs": [],
   "source": [
    "def html_tag(tag_name):\n",
    "    pass"
   ]
  },
  {
   "cell_type": "markdown",
   "metadata": {},
   "source": [
    "## Question 3: Tracking subclasses\n",
    "\n",
    "Consider an application that must, at any given time, have access to a list of all subclasses of a particular class. Please implement the `__init__` method of SubclassTracker below:"
   ]
  },
  {
   "cell_type": "code",
   "execution_count": null,
   "metadata": {
    "collapsed": false
   },
   "outputs": [],
   "source": [
    "class SubclassTracker(type):\n",
    "    def __init__(cls, name, bases, attrs):\n",
    "        \"\"\"Please implement here\"\"\"\n",
    "        pass\n",
    "    \n",
    "class TrackedClass(object):\n",
    "    __metaclass__ = SubclassTracker\n",
    "    _registry = []\n",
    "    \n",
    "class ClassOne(TrackedClass):\n",
    "    pass\n",
    "\n",
    "class ClassTwo(TrackedClass):\n",
    "    pass\n",
    "\n",
    "# Expected output is [<class '__main__.ClassOne', <class '__main__.ClassTwo'>]\n",
    "TrackedClass._registry"
   ]
  },
  {
   "cell_type": "markdown",
   "metadata": {},
   "source": [
    "## Question 4: Implement Merge Sort  algorithm in an Pythonic way"
   ]
  },
  {
   "cell_type": "code",
   "execution_count": null,
   "metadata": {
    "collapsed": false
   },
   "outputs": [],
   "source": [
    "def merge_sort(lst):\n",
    "    pass"
   ]
  },
  {
   "cell_type": "markdown",
   "metadata": {},
   "source": [
    "## Question 5: Reverse the String\n",
    "\n",
    "Given an input string, reverse the string word by word\n",
    "\n",
    "Example input:\n",
    " * Given s = `\"InitiumLab is so terrifically awesome\"`\n",
    " * return `\"awesome terrifically so is InitiumLab\"`"
   ]
  },
  {
   "cell_type": "code",
   "execution_count": null,
   "metadata": {
    "collapsed": false
   },
   "outputs": [],
   "source": [
    "def reverse_words(str):\n",
    "    pass\n",
    "\n",
    "class ReverseWordsTest(unittest.TestCase):\n",
    "    \"\"\"Example test case\"\"\"\n",
    "    data = [\n",
    "        ('InitiumLab is so terrifically awesome', 'awesome terrifically so is InitiumLab')\n",
    "    ]\n",
    "\n",
    "    def test_reverse_words(self):\n",
    "        for [test_list, expected] in self.data:\n",
    "            actual = even_numbers(test_list)\n",
    "            self.assertEqual(actual, expected)\n",
    "\n",
    "\n",
    "reverse_words_t = ReverseWordsTest()\n",
    "reverse_words_suite = unittest.TestLoader().loadTestsFromModule( reverse_words_t )\n",
    "unittest.TextTestRunner().run(reverse_words_suite)"
   ]
  },
  {
   "cell_type": "markdown",
   "metadata": {},
   "source": [
    "## Question 6: What is the time & space complexity of the following code\n",
    "\n",
    "Assume that `random.random()` is an O(1) time, O(1) space function. "
   ]
  },
  {
   "cell_type": "code",
   "execution_count": null,
   "metadata": {
    "collapsed": false
   },
   "outputs": [],
   "source": [
    "import random\n",
    "\n",
    "a = 0\n",
    "b = 0\n",
    "for i in range(0, N):\n",
    "    a = a + random.random()\n",
    "\n",
    "for j in range(0, M):\n",
    "    b = b + random.random()"
   ]
  },
  {
   "cell_type": "markdown",
   "metadata": {},
   "source": [
    "Answer for Question 6: ???"
   ]
  },
  {
   "cell_type": "markdown",
   "metadata": {},
   "source": [
    "## Question 7\n",
    "\n",
    "### Task list:\n",
    "\n",
    "* Scrape this channel (or another one): https://theinitium.com/channel/hongkong/ . Get structured article list data\n",
    "* Handle pagination to scrape the whole list of articles\n",
    "* Answer the following questions:\n",
    " * How many articles do we generate each week in this channel?\n",
    " * What is the distribution of article title lengths?\n",
    " * What is the most frequent keywords in title/ summary?\n",
    " * What is the distribution of cover image file sizes?\n",
    "* For each article in the list, scrape the article page and get detailed information: title, description, date, author, tags, related articles\n",
    "* Answer the following questions\n",
    "* Which month/week do we have the largest number of publications in this channel?\n",
    "* Who are the top 5 authors in terms of number of articles?\n",
    "* Entity extraction:\n",
    " * Use any libraries like RegEx, LXML to extract entities: paragraph, figure, heading, number, wiki, etc\n",
    " * What are the most commonly used entities?\n",
    " * Make a tag cloud for this channel"
   ]
  },
  {
   "cell_type": "markdown",
   "metadata": {
    "collapsed": true
   },
   "source": [
    "## Question 8\n",
    "\n",
    "How will you combine multiple different string like \"Data\", \"Science\", \"in\", \"R\", \"and\", \"Python\" as a single string \"Data_Science_in_R_and_Python\" ?"
   ]
  },
  {
   "cell_type": "code",
   "execution_count": null,
   "metadata": {
    "collapsed": true
   },
   "outputs": [],
   "source": []
  }
 ],
 "metadata": {
  "kernelspec": {
   "display_name": "Python 3",
   "language": "python",
   "name": "python3"
  },
  "language_info": {
   "codemirror_mode": {
    "name": "ipython",
    "version": 3
   },
   "file_extension": ".py",
   "mimetype": "text/x-python",
   "name": "python",
   "nbconvert_exporter": "python",
   "pygments_lexer": "ipython3",
   "version": "3.5.1"
  }
 },
 "nbformat": 4,
 "nbformat_minor": 0
}
